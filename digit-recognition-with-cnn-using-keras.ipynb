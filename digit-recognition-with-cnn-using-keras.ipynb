{
 "cells": [
  {
   "cell_type": "markdown",
   "metadata": {
    "papermill": {
     "duration": 0.011577,
     "end_time": "2020-11-12T15:46:19.280869",
     "exception": false,
     "start_time": "2020-11-12T15:46:19.269292",
     "status": "completed"
    },
    "tags": []
   },
   "source": [
    "# Digit recognition with CNN using Keras\n",
    "\n",
    "<hr>"
   ]
  },
  {
   "cell_type": "code",
   "execution_count": 1,
   "metadata": {
    "_cell_guid": "b1076dfc-b9ad-4769-8c92-a6c4dae69d19",
    "_uuid": "8f2839f25d086af736a60e9eeb907d3b93b6e0e5",
    "execution": {
     "iopub.execute_input": "2020-11-12T15:46:19.316819Z",
     "iopub.status.busy": "2020-11-12T15:46:19.315605Z",
     "iopub.status.idle": "2020-11-12T15:46:27.386571Z",
     "shell.execute_reply": "2020-11-12T15:46:27.385619Z"
    },
    "papermill": {
     "duration": 8.093188,
     "end_time": "2020-11-12T15:46:27.386737",
     "exception": false,
     "start_time": "2020-11-12T15:46:19.293549",
     "status": "completed"
    },
    "tags": []
   },
   "outputs": [],
   "source": [
    "#Loading libraries / methods:\n",
    "\n",
    "import numpy as np\n",
    "import pandas as pd\n",
    "import matplotlib.pyplot as plt\n",
    "from sklearn.model_selection import train_test_split\n",
    "from keras.datasets import mnist\n",
    "from keras.utils import np_utils\n",
    "from keras.models import Sequential\n",
    "from keras.layers import Dense, Dropout, Flatten, Conv2D, MaxPooling2D\n",
    "from keras.layers.normalization import BatchNormalization\n",
    "\n",
    "%matplotlib inline"
   ]
  },
  {
   "cell_type": "code",
   "execution_count": 2,
   "metadata": {
    "execution": {
     "iopub.execute_input": "2020-11-12T15:46:27.416788Z",
     "iopub.status.busy": "2020-11-12T15:46:27.415927Z",
     "iopub.status.idle": "2020-11-12T15:46:30.035855Z",
     "shell.execute_reply": "2020-11-12T15:46:30.035026Z"
    },
    "papermill": {
     "duration": 2.638303,
     "end_time": "2020-11-12T15:46:30.035991",
     "exception": false,
     "start_time": "2020-11-12T15:46:27.397688",
     "status": "completed"
    },
    "tags": []
   },
   "outputs": [],
   "source": [
    "#train = pd.read_csv(\"/kaggle/input/digit-recognizer/train.csv\")\n",
    "test = pd.read_csv(\"/kaggle/input/digit-recognizer/test.csv\")"
   ]
  },
  {
   "cell_type": "code",
   "execution_count": 3,
   "metadata": {
    "execution": {
     "iopub.execute_input": "2020-11-12T15:46:30.077986Z",
     "iopub.status.busy": "2020-11-12T15:46:30.063556Z",
     "iopub.status.idle": "2020-11-12T15:46:30.771378Z",
     "shell.execute_reply": "2020-11-12T15:46:30.770522Z"
    },
    "papermill": {
     "duration": 0.72482,
     "end_time": "2020-11-12T15:46:30.771514",
     "exception": false,
     "start_time": "2020-11-12T15:46:30.046694",
     "status": "completed"
    },
    "tags": []
   },
   "outputs": [
    {
     "name": "stdout",
     "output_type": "stream",
     "text": [
      "Downloading data from https://storage.googleapis.com/tensorflow/tf-keras-datasets/mnist.npz\n",
      "11493376/11490434 [==============================] - 0s 0us/step\n"
     ]
    }
   ],
   "source": [
    "#Loading and splitting the dataset:\n",
    "(x_train, y_train), (x_test, y_test) = mnist.load_data()"
   ]
  },
  {
   "cell_type": "code",
   "execution_count": 4,
   "metadata": {
    "execution": {
     "iopub.execute_input": "2020-11-12T15:46:30.803579Z",
     "iopub.status.busy": "2020-11-12T15:46:30.802825Z",
     "iopub.status.idle": "2020-11-12T15:46:31.053035Z",
     "shell.execute_reply": "2020-11-12T15:46:31.052208Z"
    },
    "papermill": {
     "duration": 0.268444,
     "end_time": "2020-11-12T15:46:31.053174",
     "exception": false,
     "start_time": "2020-11-12T15:46:30.784730",
     "status": "completed"
    },
    "tags": []
   },
   "outputs": [
    {
     "data": {
      "text/plain": [
       "<matplotlib.image.AxesImage at 0x7f82ec4eed50>"
      ]
     },
     "execution_count": 4,
     "metadata": {},
     "output_type": "execute_result"
    },
    {
     "data": {
      "image/png": "[encoded data removed]",
      "text/plain": [
       "<Figure size 432x288 with 1 Axes>"
      ]
     },
     "metadata": {
      "needs_background": "light"
     },
     "output_type": "display_data"
    }
   ],
   "source": [
    "#Visualizing the inputs:\n",
    "plt.imshow(x_train[2])"
   ]
  },
  {
   "cell_type": "code",
   "execution_count": 5,
   "metadata": {
    "execution": {
     "iopub.execute_input": "2020-11-12T15:46:31.111621Z",
     "iopub.status.busy": "2020-11-12T15:46:31.107270Z",
     "iopub.status.idle": "2020-11-12T15:46:31.280266Z",
     "shell.execute_reply": "2020-11-12T15:46:31.279359Z"
    },
    "papermill": {
     "duration": 0.212136,
     "end_time": "2020-11-12T15:46:31.280405",
     "exception": false,
     "start_time": "2020-11-12T15:46:31.068269",
     "status": "completed"
    },
    "tags": []
   },
   "outputs": [
    {
     "data": {
      "text/plain": [
       "<matplotlib.image.AxesImage at 0x7f82ec55fb10>"
      ]
     },
     "execution_count": 5,
     "metadata": {},
     "output_type": "execute_result"
    },
    {
     "data": {
      "image/png": "[encoded data removed]",
      "text/plain": [
       "<Figure size 432x288 with 1 Axes>"
      ]
     },
     "metadata": {
      "needs_background": "light"
     },
     "output_type": "display_data"
    }
   ],
   "source": [
    "#Gray scale:\n",
    "plt.imshow(x_train[2], cmap='gray')"
   ]
  },
  {
   "cell_type": "code",
   "execution_count": 6,
   "metadata": {
    "execution": {
     "iopub.execute_input": "2020-11-12T15:46:31.334807Z",
     "iopub.status.busy": "2020-11-12T15:46:31.333955Z",
     "iopub.status.idle": "2020-11-12T15:46:31.472135Z",
     "shell.execute_reply": "2020-11-12T15:46:31.471396Z"
    },
    "papermill": {
     "duration": 0.169672,
     "end_time": "2020-11-12T15:46:31.472268",
     "exception": false,
     "start_time": "2020-11-12T15:46:31.302596",
     "status": "completed"
    },
    "tags": []
   },
   "outputs": [],
   "source": [
    "#Data preprocessing\n",
    "\n",
    "pred_train = x_train.reshape(x_train.shape[0], 28, 28, 1)\n",
    "pred_test = x_test.reshape(x_test.shape[0], 28, 28, 1)\n",
    "\n",
    "pred_train = pred_train.astype('float32')\n",
    "pred_test = pred_test.astype('float32')\n",
    "\n",
    "#Min-Max normalization:\n",
    "pred_train /=255\n",
    "pred_test /=255\n",
    "\n",
    "#One-hot Encoding:\n",
    "class_train = np_utils.to_categorical(y_train, 10)\n",
    "class_test = np_utils.to_categorical(y_test, 10)"
   ]
  },
  {
   "cell_type": "code",
   "execution_count": 7,
   "metadata": {
    "execution": {
     "iopub.execute_input": "2020-11-12T15:46:31.518505Z",
     "iopub.status.busy": "2020-11-12T15:46:31.517332Z",
     "iopub.status.idle": "2020-11-12T15:46:31.795623Z",
     "shell.execute_reply": "2020-11-12T15:46:31.794857Z"
    },
    "papermill": {
     "duration": 0.307752,
     "end_time": "2020-11-12T15:46:31.795770",
     "exception": false,
     "start_time": "2020-11-12T15:46:31.488018",
     "status": "completed"
    },
    "tags": []
   },
   "outputs": [],
   "source": [
    "#Building the model\n",
    "\n",
    "classifier = Sequential()\n",
    "classifier.add(Conv2D(32, (3,3), input_shape = (28,28,1), activation = 'relu'))\n",
    "classifier.add(BatchNormalization())\n",
    "classifier.add(MaxPooling2D(pool_size = (2,2)))\n",
    "classifier.add(Conv2D(32, (3,3), activation = 'relu'))\n",
    "classifier.add(BatchNormalization())\n",
    "classifier.add(MaxPooling2D(pool_size = (2,2)))\n",
    "classifier.add(Flatten())\n",
    "classifier.add(Dense(units = 128, activation = 'relu'))\n",
    "classifier.add(Dropout(0.2))\n",
    "classifier.add(Dense(units = 128, activation = 'relu'))\n",
    "classifier.add(Dropout(0.2))\n",
    "classifier.add(Dense(units = 10, activation = 'softmax'))\n",
    "\n",
    "classifier.compile(loss = 'categorical_crossentropy', optimizer = 'adam', metrics=['accuracy'])"
   ]
  },
  {
   "cell_type": "code",
   "execution_count": 8,
   "metadata": {
    "_cell_guid": "79c7e3d0-c299-4dcb-8224-4455121ee9b0",
    "_uuid": "d629ff2d2480ee46fbb7e2d37f6b5fab8052498a",
    "execution": {
     "iopub.execute_input": "2020-11-12T15:46:31.835592Z",
     "iopub.status.busy": "2020-11-12T15:46:31.834781Z",
     "iopub.status.idle": "2020-11-12T16:02:00.886575Z",
     "shell.execute_reply": "2020-11-12T16:02:00.887354Z"
    },
    "papermill": {
     "duration": 929.075386,
     "end_time": "2020-11-12T16:02:00.887658",
     "exception": false,
     "start_time": "2020-11-12T15:46:31.812272",
     "status": "completed"
    },
    "tags": []
   },
   "outputs": [
    {
     "name": "stdout",
     "output_type": "stream",
     "text": [
      "Epoch 1/30\n",
      "469/469 [==============================] - 32s 68ms/step - loss: 0.2251 - accuracy: 0.9312 - val_loss: 0.1073 - val_accuracy: 0.9708\n",
      "Epoch 2/30\n",
      "469/469 [==============================] - 30s 65ms/step - loss: 0.0660 - accuracy: 0.9807 - val_loss: 0.0393 - val_accuracy: 0.9874\n",
      "Epoch 3/30\n",
      "469/469 [==============================] - 31s 65ms/step - loss: 0.0475 - accuracy: 0.9859 - val_loss: 0.0413 - val_accuracy: 0.9878\n",
      "Epoch 4/30\n",
      "469/469 [==============================] - 29s 63ms/step - loss: 0.0366 - accuracy: 0.9883 - val_loss: 0.0360 - val_accuracy: 0.9898\n",
      "Epoch 5/30\n",
      "469/469 [==============================] - 29s 62ms/step - loss: 0.0320 - accuracy: 0.9903 - val_loss: 0.0359 - val_accuracy: 0.9896\n",
      "Epoch 6/30\n",
      "469/469 [==============================] - 30s 65ms/step - loss: 0.0246 - accuracy: 0.9924 - val_loss: 0.0402 - val_accuracy: 0.9900\n",
      "Epoch 7/30\n",
      "469/469 [==============================] - 30s 65ms/step - loss: 0.0237 - accuracy: 0.9931 - val_loss: 0.0304 - val_accuracy: 0.9917\n",
      "Epoch 8/30\n",
      "469/469 [==============================] - 30s 64ms/step - loss: 0.0201 - accuracy: 0.9936 - val_loss: 0.0318 - val_accuracy: 0.9926\n",
      "Epoch 9/30\n",
      "469/469 [==============================] - 30s 65ms/step - loss: 0.0192 - accuracy: 0.9938 - val_loss: 0.0415 - val_accuracy: 0.9883\n",
      "Epoch 10/30\n",
      "469/469 [==============================] - 30s 64ms/step - loss: 0.0169 - accuracy: 0.9945 - val_loss: 0.0424 - val_accuracy: 0.9901\n",
      "Epoch 11/30\n",
      "469/469 [==============================] - 31s 65ms/step - loss: 0.0161 - accuracy: 0.9952 - val_loss: 0.0375 - val_accuracy: 0.9904\n",
      "Epoch 12/30\n",
      "469/469 [==============================] - 30s 64ms/step - loss: 0.0146 - accuracy: 0.9949 - val_loss: 0.0352 - val_accuracy: 0.9919\n",
      "Epoch 13/30\n",
      "469/469 [==============================] - 31s 66ms/step - loss: 0.0128 - accuracy: 0.9961 - val_loss: 0.0384 - val_accuracy: 0.9898\n",
      "Epoch 14/30\n",
      "469/469 [==============================] - 31s 66ms/step - loss: 0.0125 - accuracy: 0.9961 - val_loss: 0.0459 - val_accuracy: 0.9903\n",
      "Epoch 15/30\n",
      "469/469 [==============================] - 32s 68ms/step - loss: 0.0134 - accuracy: 0.9959 - val_loss: 0.0420 - val_accuracy: 0.9905\n",
      "Epoch 16/30\n",
      "469/469 [==============================] - 32s 67ms/step - loss: 0.0101 - accuracy: 0.9967 - val_loss: 0.0404 - val_accuracy: 0.9911\n",
      "Epoch 17/30\n",
      "469/469 [==============================] - 31s 65ms/step - loss: 0.0103 - accuracy: 0.9968 - val_loss: 0.0395 - val_accuracy: 0.9907\n",
      "Epoch 18/30\n",
      "469/469 [==============================] - 29s 62ms/step - loss: 0.0120 - accuracy: 0.9964 - val_loss: 0.0482 - val_accuracy: 0.9915\n",
      "Epoch 19/30\n",
      "469/469 [==============================] - 35s 75ms/step - loss: 0.0097 - accuracy: 0.9970 - val_loss: 0.0503 - val_accuracy: 0.9907\n",
      "Epoch 20/30\n",
      "469/469 [==============================] - 31s 67ms/step - loss: 0.0090 - accuracy: 0.9971 - val_loss: 0.0489 - val_accuracy: 0.9908\n",
      "Epoch 21/30\n",
      "469/469 [==============================] - 33s 70ms/step - loss: 0.0088 - accuracy: 0.9973 - val_loss: 0.0446 - val_accuracy: 0.9919\n",
      "Epoch 22/30\n",
      "469/469 [==============================] - 31s 67ms/step - loss: 0.0088 - accuracy: 0.9975 - val_loss: 0.0343 - val_accuracy: 0.9929\n",
      "Epoch 23/30\n",
      "469/469 [==============================] - 31s 66ms/step - loss: 0.0071 - accuracy: 0.9976 - val_loss: 0.0512 - val_accuracy: 0.9892\n",
      "Epoch 24/30\n",
      "469/469 [==============================] - 31s 65ms/step - loss: 0.0075 - accuracy: 0.9977 - val_loss: 0.0371 - val_accuracy: 0.9937\n",
      "Epoch 25/30\n",
      "469/469 [==============================] - 31s 66ms/step - loss: 0.0082 - accuracy: 0.9974 - val_loss: 0.0467 - val_accuracy: 0.9919\n",
      "Epoch 26/30\n",
      "469/469 [==============================] - 30s 65ms/step - loss: 0.0095 - accuracy: 0.9973 - val_loss: 0.0424 - val_accuracy: 0.9901\n",
      "Epoch 27/30\n",
      "469/469 [==============================] - 33s 70ms/step - loss: 0.0057 - accuracy: 0.9981 - val_loss: 0.0348 - val_accuracy: 0.9922\n",
      "Epoch 28/30\n",
      "469/469 [==============================] - 29s 63ms/step - loss: 0.0059 - accuracy: 0.9983 - val_loss: 0.0386 - val_accuracy: 0.9931\n",
      "Epoch 29/30\n",
      "469/469 [==============================] - 32s 68ms/step - loss: 0.0070 - accuracy: 0.9980 - val_loss: 0.0487 - val_accuracy: 0.9925\n",
      "Epoch 30/30\n",
      "469/469 [==============================] - 29s 62ms/step - loss: 0.0072 - accuracy: 0.9977 - val_loss: 0.0426 - val_accuracy: 0.9929\n"
     ]
    },
    {
     "data": {
      "text/plain": [
       "<tensorflow.python.keras.callbacks.History at 0x7f82ec15c750>"
      ]
     },
     "execution_count": 8,
     "metadata": {},
     "output_type": "execute_result"
    }
   ],
   "source": [
    "#Fit the model:\n",
    "\n",
    "classifier.fit(pred_train,\n",
    "                class_train,\n",
    "                batch_size = 128,\n",
    "                epochs = 30,\n",
    "                validation_data = (pred_test, class_test))"
   ]
  },
  {
   "cell_type": "code",
   "execution_count": 9,
   "metadata": {
    "execution": {
     "iopub.execute_input": "2020-11-12T16:02:12.847919Z",
     "iopub.status.busy": "2020-11-12T16:02:12.846809Z",
     "iopub.status.idle": "2020-11-12T16:02:17.746071Z",
     "shell.execute_reply": "2020-11-12T16:02:17.745340Z"
    },
    "papermill": {
     "duration": 10.927525,
     "end_time": "2020-11-12T16:02:17.746210",
     "exception": false,
     "start_time": "2020-11-12T16:02:06.818685",
     "status": "completed"
    },
    "tags": []
   },
   "outputs": [
    {
     "data": {
      "text/plain": [
       "(28000, 10)"
      ]
     },
     "execution_count": 9,
     "metadata": {},
     "output_type": "execute_result"
    }
   ],
   "source": [
    "#Prediction\n",
    "\n",
    "X_test = test/255\n",
    "X_test = X_test.values\n",
    "X_test = X_test.reshape(X_test.shape[0], 28, 28, 1).astype('float32')\n",
    "\n",
    "pred = classifier.predict(X_test)\n",
    "pred.shape"
   ]
  },
  {
   "cell_type": "code",
   "execution_count": 10,
   "metadata": {
    "execution": {
     "iopub.execute_input": "2020-11-12T16:02:29.071116Z",
     "iopub.status.busy": "2020-11-12T16:02:29.070304Z",
     "iopub.status.idle": "2020-11-12T16:02:29.100324Z",
     "shell.execute_reply": "2020-11-12T16:02:29.099648Z"
    },
    "papermill": {
     "duration": 5.721364,
     "end_time": "2020-11-12T16:02:29.100461",
     "exception": false,
     "start_time": "2020-11-12T16:02:23.379097",
     "status": "completed"
    },
    "tags": []
   },
   "outputs": [
    {
     "data": {
      "text/html": [
       "<div>\n",
       "<style scoped>\n",
       "    .dataframe tbody tr th:only-of-type {\n",
       "        vertical-align: middle;\n",
       "    }\n",
       "\n",
       "    .dataframe tbody tr th {\n",
       "        vertical-align: top;\n",
       "    }\n",
       "\n",
       "    .dataframe thead th {\n",
       "        text-align: right;\n",
       "    }\n",
       "</style>\n",
       "<table border=\"1\" class=\"dataframe\">\n",
       "  <thead>\n",
       "    <tr style=\"text-align: right;\">\n",
       "      <th></th>\n",
       "      <th>ImageId</th>\n",
       "      <th>Label</th>\n",
       "    </tr>\n",
       "  </thead>\n",
       "  <tbody>\n",
       "    <tr>\n",
       "      <th>0</th>\n",
       "      <td>1</td>\n",
       "      <td>0</td>\n",
       "    </tr>\n",
       "    <tr>\n",
       "      <th>1</th>\n",
       "      <td>2</td>\n",
       "      <td>0</td>\n",
       "    </tr>\n",
       "    <tr>\n",
       "      <th>2</th>\n",
       "      <td>3</td>\n",
       "      <td>0</td>\n",
       "    </tr>\n",
       "    <tr>\n",
       "      <th>3</th>\n",
       "      <td>4</td>\n",
       "      <td>0</td>\n",
       "    </tr>\n",
       "    <tr>\n",
       "      <th>4</th>\n",
       "      <td>5</td>\n",
       "      <td>0</td>\n",
       "    </tr>\n",
       "  </tbody>\n",
       "</table>\n",
       "</div>"
      ],
      "text/plain": [
       "   ImageId  Label\n",
       "0        1      0\n",
       "1        2      0\n",
       "2        3      0\n",
       "3        4      0\n",
       "4        5      0"
      ]
     },
     "execution_count": 10,
     "metadata": {},
     "output_type": "execute_result"
    }
   ],
   "source": [
    "#Submission\n",
    "\n",
    "sample_submit = pd.read_csv(\"/kaggle/input/digit-recognizer/sample_submission.csv\")\n",
    "sample_submit.head()"
   ]
  },
  {
   "cell_type": "code",
   "execution_count": 11,
   "metadata": {
    "execution": {
     "iopub.execute_input": "2020-11-12T16:02:40.672140Z",
     "iopub.status.busy": "2020-11-12T16:02:40.671094Z",
     "iopub.status.idle": "2020-11-12T16:02:44.206081Z",
     "shell.execute_reply": "2020-11-12T16:02:44.205344Z"
    },
    "papermill": {
     "duration": 9.429117,
     "end_time": "2020-11-12T16:02:44.206234",
     "exception": false,
     "start_time": "2020-11-12T16:02:34.777117",
     "status": "completed"
    },
    "tags": []
   },
   "outputs": [],
   "source": [
    "y_pred = pred.argmax(axis=1)\n",
    "ImageID = np.arange(len(y_pred))+1\n",
    "\n",
    "submit = pd.DataFrame([ImageID,y_pred]).T\n",
    "submit.rename(columns = {0:'ImageId', 1:'Label'})\n",
    "\n",
    "submit.to_csv('submission.csv', header =  ['ImageId', 'Label' ], index = None) "
   ]
  }
 ],
 "metadata": {
  "kernelspec": {
   "display_name": "Python 3",
   "language": "python",
   "name": "python3"
  },
  "language_info": {
   "codemirror_mode": {
    "name": "ipython",
    "version": 3
   },
   "file_extension": ".py",
   "mimetype": "text/x-python",
   "name": "python",
   "nbconvert_exporter": "python",
   "pygments_lexer": "ipython3",
   "version": "3.7.6"
  },
  "papermill": {
   "duration": 997.683727,
   "end_time": "2020-11-12T16:02:51.037256",
   "environment_variables": {},
   "exception": null,
   "input_path": "__notebook__.ipynb",
   "output_path": "__notebook__.ipynb",
   "parameters": {},
   "start_time": "2020-11-12T15:46:13.353529",
   "version": "2.1.0"
  }
 },
 "nbformat": 4,
 "nbformat_minor": 4
}
